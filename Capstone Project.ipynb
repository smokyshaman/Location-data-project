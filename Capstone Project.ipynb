{
    "cells": [
        {
            "metadata": {
                "collapsed": true
            },
            "cell_type": "markdown",
            "source": "# Capstone Project"
        },
        {
            "metadata": {},
            "cell_type": "markdown",
            "source": "## Business problem"
        },
        {
            "metadata": {},
            "cell_type": "markdown",
            "source": "### The purpose of the project is to recommend neighborhoods in New York city to start a business of a given type. \n\nSelection of location is essential to start a business. There are lots of approaches to identify locations best fitted for a type of store/venue and one of which is referring to the best rated venues in the city and selecting similar locations. Ideally, if a business of a given type is successful in neighborhood A, such business type will most likely to be successful in similar neighborhoods B or C. The success of a store/venue is measured by its rating and count of likes. Thus, given a business type, the first several best rated stores of the same type will be searched in a city. Each of these stores will have its borough and nearest neighborhood calculated, referred as target neighborhood. Within the same borough, all neighborhoods will be clustered and assigned with cluster labels. Only neighborhoods with same cluster labels as the target neighborhood will be returned and a brief summary will be generated to describe the neighborhoods."
        },
        {
            "metadata": {},
            "cell_type": "markdown",
            "source": "## Data"
        },
        {
            "metadata": {},
            "cell_type": "markdown",
            "source": "Data to be used for this project include location and venue data from Foursquare and neighborhood/borough data of New York retrieved from Wikipedia. The Foursquare location data, combined with New York neighborhood data, will be used to describe the physical locations and calculate the nearest neighborhood of venues. Neighborhoods will be clustered based on number of each venue type within a given radius. The venue data from Foursquare will be used to measure the quality of a venue given its rating and count of likes. Venues of a given type in a city will be ranked based on ratings and then count of likes. That being said, if two venues have same ratings, the one with more count of likes will be ranked over the other one. "
        },
        {
            "metadata": {},
            "cell_type": "code",
            "source": "",
            "execution_count": null,
            "outputs": []
        }
    ],
    "metadata": {
        "kernelspec": {
            "name": "python3",
            "display_name": "Python 3.7",
            "language": "python"
        },
        "language_info": {
            "name": "python",
            "version": "3.7.10",
            "mimetype": "text/x-python",
            "codemirror_mode": {
                "name": "ipython",
                "version": 3
            },
            "pygments_lexer": "ipython3",
            "nbconvert_exporter": "python",
            "file_extension": ".py"
        }
    },
    "nbformat": 4,
    "nbformat_minor": 1
}